{
  "nbformat": 4,
  "nbformat_minor": 0,
  "metadata": {
    "colab": {
      "name": "Exp3-2021.ipynb",
      "provenance": [],
      "include_colab_link": true
    },
    "kernelspec": {
      "name": "python3",
      "display_name": "Python 3"
    }
  },
  "cells": [
    {
      "cell_type": "markdown",
      "metadata": {
        "id": "view-in-github",
        "colab_type": "text"
      },
      "source": [
        "<a href=\"https://colab.research.google.com/github/Shubham-Kanade/Data-Modelling/blob/main/Exp3_2021.ipynb\" target=\"_parent\"><img src=\"https://colab.research.google.com/assets/colab-badge.svg\" alt=\"Open In Colab\"/></a>"
      ]
    },
    {
      "cell_type": "markdown",
      "metadata": {
        "id": "6K8mpiDNwAfU"
      },
      "source": [
        "**Exp 3: Write a program to generate n-gram (bigram,trigram,etc) of English and Hindi Text**"
      ]
    },
    {
      "cell_type": "markdown",
      "metadata": {
        "id": "3CAMm0JKB1PW"
      },
      "source": [
        ""
      ]
    },
    {
      "cell_type": "markdown",
      "metadata": {
        "id": "sXGVtQ3UXrSj"
      },
      "source": [
        "**What Are N-Grams?**<br>\n",
        "N-Grams are words, or combinations of words, broken out by the number of words in that combination. As an outline:<br>\n",
        "\n",
        "Unigrams: one word<br>\n",
        "Bigrams: two words<br>\n",
        "Trigrams: three words<br>\n",
        "And so forth<br>"
      ]
    },
    {
      "cell_type": "markdown",
      "metadata": {
        "id": "ZyhdaH4mXuDt"
      },
      "source": [
        "To further explore n-grams, we can break down the sentence below: <br>\n",
        "Hi there everyone, we’re exploring n-grams today."
      ]
    },
    {
      "cell_type": "markdown",
      "metadata": {
        "id": "ZC5kdckhX_IB"
      },
      "source": [
        "<img src=\"https://drive.google.com/thumbnail?id=1yFcgXAq_FUydLr2pztthLF_PFaxteaTb\">"
      ]
    },
    {
      "cell_type": "markdown",
      "metadata": {
        "id": "VttYTBEHcJ6Z"
      },
      "source": [
        "<img src=\"https://drive.google.com/thumbnail?id=1aEQwk_WWsT2ExzQ6eodogItOx9hIE1tb\">"
      ]
    },
    {
      "cell_type": "markdown",
      "metadata": {
        "id": "OYilRg-PcMLQ"
      },
      "source": [
        "<img src=\"https://drive.google.com/thumbnail?id=1Q5ucspnjDCkQtHdIihIdGAIyfIppF7zl\">"
      ]
    },
    {
      "cell_type": "markdown",
      "metadata": {
        "id": "R6ldNhoWcitv"
      },
      "source": [
        "Unigram: hi | there | everyone, etc… <br>\n",
        "Bigram: hi there | exploring n-grams | etc…  <br>\n",
        "Trigram: hi there everyone | exploring n-grams today | etc…  <br>\n",
        "Note that the words must follow sequentially to be an n-gram."
      ]
    },
    {
      "cell_type": "markdown",
      "metadata": {
        "id": "JQvtRLehd9RH"
      },
      "source": [
        "*    Imagine listening to someone as they speak and trying to guess the next word that they are going to say. For example what word is likely to follow this sentence fragment?:\n",
        "I’d like to make a . . .     / Please hand over your\n",
        "*   Guessing the next word (or word prediction) is an essential subtask of speech recognition, hand-writing recognition, augmentative communication for the disabled, and spelling error detection.\n",
        "*   In such tasks, word-identification is difficult because the input is very noisy and ambiguous.\n",
        "*   Thus looking at previous words can give us an important cue about what the next ones are going to be.\n",
        "*  N-gram models, which predict the next word from the previous N − 1 words.\n",
        "*   Such statistical models of word sequences are also called language models or LMs.\n",
        "*   Computing the probability of the next word will turn out to be closely related to computing the probability of a sequence of words.\n",
        "*   The following sequence, for example, has a non-zero probability of appearing in a text: \n",
        ". . . all of a sudden I notice three guys standing on the sidewalk... \" be off close on for joker\"\n",
        "*   while this same set of words in a different order has a much much lower probability: \n",
        "on guys all I of notice sidewalk three a sudden standing the\n",
        "*  It can also help to make spelling error corrections.\n",
        "*  For instance, the sentence “drink cofee” could be corrected to “drink coffee” if you knew that the word “coffee” had a high probability of occurrence after the word “drink” and also the overlap of letters between “cofee” and “coffee” is high\n",
        "*  Let’s start with equation P(w|h), the probability of word w, given some history, h. For example, P(The|its water is so transparent that)\n",
        "Here,<br>\n",
        "w = The <br>\n",
        "h = its water is so transparent that\n",
        "*  And, one way to estimate the above probability function is through the relative frequency count approach, where you would take a substantially large corpus, count the number of times you see *its water is so transparent that*, and then count the number of times it is followed by *the*. \n",
        "*  In other words, you are answering the question:\n",
        "Out of the times you saw the history h, how many times did the word w follow it\n",
        "P(the|its water is so transparent that) = C(its water is so transparent that)/C(its water is so transparent that the)\n",
        "*   You can imagine, it is not feasible to perform this over an entire corpus; especially if it is of a significant size.\n",
        "*   This shortcoming and ways to decompose the probability function using the chain rule serves as the base intuition of the N-gram model. Here, you, instead of computing probability using the entire corpus, would approximate it by just a few historical words\n",
        "\n",
        "\n",
        "\n",
        "\n"
      ]
    },
    {
      "cell_type": "code",
      "metadata": {
        "id": "ANF71ZDQx1z6",
        "colab": {
          "base_uri": "https://localhost:8080/"
        },
        "outputId": "3cc8da0c-34f7-4832-a924-2f5d66a01e1e"
      },
      "source": [
        "!pip install nltk\n",
        "import nltk\n",
        "nltk.download('all')"
      ],
      "execution_count": 2,
      "outputs": [
        {
          "output_type": "stream",
          "name": "stdout",
          "text": [
            "Requirement already satisfied: nltk in /usr/local/lib/python3.7/dist-packages (3.2.5)\n",
            "Requirement already satisfied: six in /usr/local/lib/python3.7/dist-packages (from nltk) (1.15.0)\n",
            "[nltk_data] Downloading collection 'all'\n",
            "[nltk_data]    | \n",
            "[nltk_data]    | Downloading package abc to /root/nltk_data...\n",
            "[nltk_data]    |   Package abc is already up-to-date!\n",
            "[nltk_data]    | Downloading package alpino to /root/nltk_data...\n",
            "[nltk_data]    |   Package alpino is already up-to-date!\n",
            "[nltk_data]    | Downloading package averaged_perceptron_tagger to\n",
            "[nltk_data]    |     /root/nltk_data...\n",
            "[nltk_data]    |   Package averaged_perceptron_tagger is already up-\n",
            "[nltk_data]    |       to-date!\n",
            "[nltk_data]    | Downloading package averaged_perceptron_tagger_ru to\n",
            "[nltk_data]    |     /root/nltk_data...\n",
            "[nltk_data]    |   Package averaged_perceptron_tagger_ru is already\n",
            "[nltk_data]    |       up-to-date!\n",
            "[nltk_data]    | Downloading package basque_grammars to\n",
            "[nltk_data]    |     /root/nltk_data...\n",
            "[nltk_data]    |   Package basque_grammars is already up-to-date!\n",
            "[nltk_data]    | Downloading package biocreative_ppi to\n",
            "[nltk_data]    |     /root/nltk_data...\n",
            "[nltk_data]    |   Package biocreative_ppi is already up-to-date!\n",
            "[nltk_data]    | Downloading package bllip_wsj_no_aux to\n",
            "[nltk_data]    |     /root/nltk_data...\n",
            "[nltk_data]    |   Package bllip_wsj_no_aux is already up-to-date!\n",
            "[nltk_data]    | Downloading package book_grammars to\n",
            "[nltk_data]    |     /root/nltk_data...\n",
            "[nltk_data]    |   Package book_grammars is already up-to-date!\n",
            "[nltk_data]    | Downloading package brown to /root/nltk_data...\n",
            "[nltk_data]    |   Package brown is already up-to-date!\n",
            "[nltk_data]    | Downloading package brown_tei to /root/nltk_data...\n",
            "[nltk_data]    |   Package brown_tei is already up-to-date!\n",
            "[nltk_data]    | Downloading package cess_cat to /root/nltk_data...\n",
            "[nltk_data]    |   Package cess_cat is already up-to-date!\n",
            "[nltk_data]    | Downloading package cess_esp to /root/nltk_data...\n",
            "[nltk_data]    |   Package cess_esp is already up-to-date!\n",
            "[nltk_data]    | Downloading package chat80 to /root/nltk_data...\n",
            "[nltk_data]    |   Package chat80 is already up-to-date!\n",
            "[nltk_data]    | Downloading package city_database to\n",
            "[nltk_data]    |     /root/nltk_data...\n",
            "[nltk_data]    |   Package city_database is already up-to-date!\n",
            "[nltk_data]    | Downloading package cmudict to /root/nltk_data...\n",
            "[nltk_data]    |   Package cmudict is already up-to-date!\n",
            "[nltk_data]    | Downloading package comparative_sentences to\n",
            "[nltk_data]    |     /root/nltk_data...\n",
            "[nltk_data]    |   Package comparative_sentences is already up-to-\n",
            "[nltk_data]    |       date!\n",
            "[nltk_data]    | Downloading package comtrans to /root/nltk_data...\n",
            "[nltk_data]    |   Package comtrans is already up-to-date!\n",
            "[nltk_data]    | Downloading package conll2000 to /root/nltk_data...\n",
            "[nltk_data]    |   Package conll2000 is already up-to-date!\n",
            "[nltk_data]    | Downloading package conll2002 to /root/nltk_data...\n",
            "[nltk_data]    |   Package conll2002 is already up-to-date!\n",
            "[nltk_data]    | Downloading package conll2007 to /root/nltk_data...\n",
            "[nltk_data]    |   Package conll2007 is already up-to-date!\n",
            "[nltk_data]    | Downloading package crubadan to /root/nltk_data...\n",
            "[nltk_data]    |   Package crubadan is already up-to-date!\n",
            "[nltk_data]    | Downloading package dependency_treebank to\n",
            "[nltk_data]    |     /root/nltk_data...\n",
            "[nltk_data]    |   Package dependency_treebank is already up-to-date!\n",
            "[nltk_data]    | Downloading package dolch to /root/nltk_data...\n",
            "[nltk_data]    |   Package dolch is already up-to-date!\n",
            "[nltk_data]    | Downloading package europarl_raw to\n",
            "[nltk_data]    |     /root/nltk_data...\n",
            "[nltk_data]    |   Package europarl_raw is already up-to-date!\n",
            "[nltk_data]    | Downloading package extended_omw to\n",
            "[nltk_data]    |     /root/nltk_data...\n",
            "[nltk_data]    |   Package extended_omw is already up-to-date!\n",
            "[nltk_data]    | Downloading package floresta to /root/nltk_data...\n",
            "[nltk_data]    |   Package floresta is already up-to-date!\n",
            "[nltk_data]    | Downloading package framenet_v15 to\n",
            "[nltk_data]    |     /root/nltk_data...\n",
            "[nltk_data]    |   Package framenet_v15 is already up-to-date!\n",
            "[nltk_data]    | Downloading package framenet_v17 to\n",
            "[nltk_data]    |     /root/nltk_data...\n",
            "[nltk_data]    |   Package framenet_v17 is already up-to-date!\n",
            "[nltk_data]    | Downloading package gazetteers to /root/nltk_data...\n",
            "[nltk_data]    |   Package gazetteers is already up-to-date!\n",
            "[nltk_data]    | Downloading package genesis to /root/nltk_data...\n",
            "[nltk_data]    |   Package genesis is already up-to-date!\n",
            "[nltk_data]    | Downloading package gutenberg to /root/nltk_data...\n",
            "[nltk_data]    |   Package gutenberg is already up-to-date!\n",
            "[nltk_data]    | Downloading package ieer to /root/nltk_data...\n",
            "[nltk_data]    |   Package ieer is already up-to-date!\n",
            "[nltk_data]    | Downloading package inaugural to /root/nltk_data...\n",
            "[nltk_data]    |   Package inaugural is already up-to-date!\n",
            "[nltk_data]    | Downloading package indian to /root/nltk_data...\n",
            "[nltk_data]    |   Package indian is already up-to-date!\n",
            "[nltk_data]    | Downloading package jeita to /root/nltk_data...\n",
            "[nltk_data]    |   Package jeita is already up-to-date!\n",
            "[nltk_data]    | Downloading package kimmo to /root/nltk_data...\n",
            "[nltk_data]    |   Package kimmo is already up-to-date!\n",
            "[nltk_data]    | Downloading package knbc to /root/nltk_data...\n",
            "[nltk_data]    |   Package knbc is already up-to-date!\n",
            "[nltk_data]    | Downloading package large_grammars to\n",
            "[nltk_data]    |     /root/nltk_data...\n",
            "[nltk_data]    |   Package large_grammars is already up-to-date!\n",
            "[nltk_data]    | Downloading package lin_thesaurus to\n",
            "[nltk_data]    |     /root/nltk_data...\n",
            "[nltk_data]    |   Package lin_thesaurus is already up-to-date!\n",
            "[nltk_data]    | Downloading package mac_morpho to /root/nltk_data...\n",
            "[nltk_data]    |   Package mac_morpho is already up-to-date!\n",
            "[nltk_data]    | Downloading package machado to /root/nltk_data...\n",
            "[nltk_data]    |   Package machado is already up-to-date!\n",
            "[nltk_data]    | Downloading package masc_tagged to /root/nltk_data...\n",
            "[nltk_data]    |   Package masc_tagged is already up-to-date!\n",
            "[nltk_data]    | Downloading package maxent_ne_chunker to\n",
            "[nltk_data]    |     /root/nltk_data...\n",
            "[nltk_data]    |   Package maxent_ne_chunker is already up-to-date!\n",
            "[nltk_data]    | Downloading package maxent_treebank_pos_tagger to\n",
            "[nltk_data]    |     /root/nltk_data...\n",
            "[nltk_data]    |   Package maxent_treebank_pos_tagger is already up-\n",
            "[nltk_data]    |       to-date!\n",
            "[nltk_data]    | Downloading package moses_sample to\n",
            "[nltk_data]    |     /root/nltk_data...\n",
            "[nltk_data]    |   Package moses_sample is already up-to-date!\n",
            "[nltk_data]    | Downloading package movie_reviews to\n",
            "[nltk_data]    |     /root/nltk_data...\n",
            "[nltk_data]    |   Package movie_reviews is already up-to-date!\n",
            "[nltk_data]    | Downloading package mte_teip5 to /root/nltk_data...\n",
            "[nltk_data]    |   Package mte_teip5 is already up-to-date!\n",
            "[nltk_data]    | Downloading package mwa_ppdb to /root/nltk_data...\n",
            "[nltk_data]    |   Package mwa_ppdb is already up-to-date!\n",
            "[nltk_data]    | Downloading package names to /root/nltk_data...\n",
            "[nltk_data]    |   Package names is already up-to-date!\n",
            "[nltk_data]    | Downloading package nombank.1.0 to /root/nltk_data...\n",
            "[nltk_data]    |   Package nombank.1.0 is already up-to-date!\n",
            "[nltk_data]    | Downloading package nonbreaking_prefixes to\n",
            "[nltk_data]    |     /root/nltk_data...\n",
            "[nltk_data]    |   Package nonbreaking_prefixes is already up-to-date!\n",
            "[nltk_data]    | Downloading package nps_chat to /root/nltk_data...\n",
            "[nltk_data]    |   Package nps_chat is already up-to-date!\n",
            "[nltk_data]    | Downloading package omw to /root/nltk_data...\n",
            "[nltk_data]    |   Package omw is already up-to-date!\n",
            "[nltk_data]    | Downloading package omw-1.4 to /root/nltk_data...\n",
            "[nltk_data]    |   Package omw-1.4 is already up-to-date!\n",
            "[nltk_data]    | Downloading package opinion_lexicon to\n",
            "[nltk_data]    |     /root/nltk_data...\n",
            "[nltk_data]    |   Package opinion_lexicon is already up-to-date!\n",
            "[nltk_data]    | Downloading package panlex_swadesh to\n",
            "[nltk_data]    |     /root/nltk_data...\n",
            "[nltk_data]    |   Package panlex_swadesh is already up-to-date!\n",
            "[nltk_data]    | Downloading package paradigms to /root/nltk_data...\n",
            "[nltk_data]    |   Package paradigms is already up-to-date!\n",
            "[nltk_data]    | Downloading package pe08 to /root/nltk_data...\n",
            "[nltk_data]    |   Package pe08 is already up-to-date!\n",
            "[nltk_data]    | Downloading package perluniprops to\n",
            "[nltk_data]    |     /root/nltk_data...\n",
            "[nltk_data]    |   Package perluniprops is already up-to-date!\n",
            "[nltk_data]    | Downloading package pil to /root/nltk_data...\n",
            "[nltk_data]    |   Package pil is already up-to-date!\n",
            "[nltk_data]    | Downloading package pl196x to /root/nltk_data...\n",
            "[nltk_data]    |   Package pl196x is already up-to-date!\n",
            "[nltk_data]    | Downloading package porter_test to /root/nltk_data...\n",
            "[nltk_data]    |   Package porter_test is already up-to-date!\n",
            "[nltk_data]    | Downloading package ppattach to /root/nltk_data...\n",
            "[nltk_data]    |   Package ppattach is already up-to-date!\n",
            "[nltk_data]    | Downloading package problem_reports to\n",
            "[nltk_data]    |     /root/nltk_data...\n",
            "[nltk_data]    |   Package problem_reports is already up-to-date!\n",
            "[nltk_data]    | Downloading package product_reviews_1 to\n",
            "[nltk_data]    |     /root/nltk_data...\n",
            "[nltk_data]    |   Package product_reviews_1 is already up-to-date!\n",
            "[nltk_data]    | Downloading package product_reviews_2 to\n",
            "[nltk_data]    |     /root/nltk_data...\n",
            "[nltk_data]    |   Package product_reviews_2 is already up-to-date!\n",
            "[nltk_data]    | Downloading package propbank to /root/nltk_data...\n",
            "[nltk_data]    |   Package propbank is already up-to-date!\n",
            "[nltk_data]    | Downloading package pros_cons to /root/nltk_data...\n",
            "[nltk_data]    |   Package pros_cons is already up-to-date!\n",
            "[nltk_data]    | Downloading package ptb to /root/nltk_data...\n",
            "[nltk_data]    |   Package ptb is already up-to-date!\n",
            "[nltk_data]    | Downloading package punkt to /root/nltk_data...\n",
            "[nltk_data]    |   Package punkt is already up-to-date!\n",
            "[nltk_data]    | Downloading package qc to /root/nltk_data...\n",
            "[nltk_data]    |   Package qc is already up-to-date!\n",
            "[nltk_data]    | Downloading package reuters to /root/nltk_data...\n",
            "[nltk_data]    |   Package reuters is already up-to-date!\n",
            "[nltk_data]    | Downloading package rslp to /root/nltk_data...\n",
            "[nltk_data]    |   Package rslp is already up-to-date!\n",
            "[nltk_data]    | Downloading package rte to /root/nltk_data...\n",
            "[nltk_data]    |   Package rte is already up-to-date!\n",
            "[nltk_data]    | Downloading package sample_grammars to\n",
            "[nltk_data]    |     /root/nltk_data...\n",
            "[nltk_data]    |   Package sample_grammars is already up-to-date!\n",
            "[nltk_data]    | Downloading package semcor to /root/nltk_data...\n",
            "[nltk_data]    |   Package semcor is already up-to-date!\n",
            "[nltk_data]    | Downloading package senseval to /root/nltk_data...\n",
            "[nltk_data]    |   Package senseval is already up-to-date!\n",
            "[nltk_data]    | Downloading package sentence_polarity to\n",
            "[nltk_data]    |     /root/nltk_data...\n",
            "[nltk_data]    |   Package sentence_polarity is already up-to-date!\n",
            "[nltk_data]    | Downloading package sentiwordnet to\n",
            "[nltk_data]    |     /root/nltk_data...\n",
            "[nltk_data]    |   Package sentiwordnet is already up-to-date!\n",
            "[nltk_data]    | Downloading package shakespeare to /root/nltk_data...\n",
            "[nltk_data]    |   Package shakespeare is already up-to-date!\n",
            "[nltk_data]    | Downloading package sinica_treebank to\n",
            "[nltk_data]    |     /root/nltk_data...\n",
            "[nltk_data]    |   Package sinica_treebank is already up-to-date!\n",
            "[nltk_data]    | Downloading package smultron to /root/nltk_data...\n",
            "[nltk_data]    |   Package smultron is already up-to-date!\n",
            "[nltk_data]    | Downloading package snowball_data to\n",
            "[nltk_data]    |     /root/nltk_data...\n",
            "[nltk_data]    |   Package snowball_data is already up-to-date!\n",
            "[nltk_data]    | Downloading package spanish_grammars to\n",
            "[nltk_data]    |     /root/nltk_data...\n",
            "[nltk_data]    |   Package spanish_grammars is already up-to-date!\n",
            "[nltk_data]    | Downloading package state_union to /root/nltk_data...\n",
            "[nltk_data]    |   Package state_union is already up-to-date!\n",
            "[nltk_data]    | Downloading package stopwords to /root/nltk_data...\n",
            "[nltk_data]    |   Package stopwords is already up-to-date!\n",
            "[nltk_data]    | Downloading package subjectivity to\n",
            "[nltk_data]    |     /root/nltk_data...\n",
            "[nltk_data]    |   Package subjectivity is already up-to-date!\n",
            "[nltk_data]    | Downloading package swadesh to /root/nltk_data...\n",
            "[nltk_data]    |   Package swadesh is already up-to-date!\n",
            "[nltk_data]    | Downloading package switchboard to /root/nltk_data...\n",
            "[nltk_data]    |   Package switchboard is already up-to-date!\n",
            "[nltk_data]    | Downloading package tagsets to /root/nltk_data...\n",
            "[nltk_data]    |   Package tagsets is already up-to-date!\n",
            "[nltk_data]    | Downloading package timit to /root/nltk_data...\n",
            "[nltk_data]    |   Package timit is already up-to-date!\n",
            "[nltk_data]    | Downloading package toolbox to /root/nltk_data...\n",
            "[nltk_data]    |   Package toolbox is already up-to-date!\n",
            "[nltk_data]    | Downloading package treebank to /root/nltk_data...\n",
            "[nltk_data]    |   Package treebank is already up-to-date!\n",
            "[nltk_data]    | Downloading package twitter_samples to\n",
            "[nltk_data]    |     /root/nltk_data...\n",
            "[nltk_data]    |   Package twitter_samples is already up-to-date!\n",
            "[nltk_data]    | Downloading package udhr to /root/nltk_data...\n",
            "[nltk_data]    |   Package udhr is already up-to-date!\n",
            "[nltk_data]    | Downloading package udhr2 to /root/nltk_data...\n",
            "[nltk_data]    |   Package udhr2 is already up-to-date!\n",
            "[nltk_data]    | Downloading package unicode_samples to\n",
            "[nltk_data]    |     /root/nltk_data...\n",
            "[nltk_data]    |   Package unicode_samples is already up-to-date!\n",
            "[nltk_data]    | Downloading package universal_tagset to\n",
            "[nltk_data]    |     /root/nltk_data...\n",
            "[nltk_data]    |   Package universal_tagset is already up-to-date!\n",
            "[nltk_data]    | Downloading package universal_treebanks_v20 to\n",
            "[nltk_data]    |     /root/nltk_data...\n",
            "[nltk_data]    |   Package universal_treebanks_v20 is already up-to-\n",
            "[nltk_data]    |       date!\n",
            "[nltk_data]    | Downloading package vader_lexicon to\n",
            "[nltk_data]    |     /root/nltk_data...\n",
            "[nltk_data]    |   Package vader_lexicon is already up-to-date!\n",
            "[nltk_data]    | Downloading package verbnet to /root/nltk_data...\n",
            "[nltk_data]    |   Package verbnet is already up-to-date!\n",
            "[nltk_data]    | Downloading package verbnet3 to /root/nltk_data...\n",
            "[nltk_data]    |   Package verbnet3 is already up-to-date!\n",
            "[nltk_data]    | Downloading package webtext to /root/nltk_data...\n",
            "[nltk_data]    |   Package webtext is already up-to-date!\n",
            "[nltk_data]    | Downloading package wmt15_eval to /root/nltk_data...\n",
            "[nltk_data]    |   Package wmt15_eval is already up-to-date!\n",
            "[nltk_data]    | Downloading package word2vec_sample to\n",
            "[nltk_data]    |     /root/nltk_data...\n",
            "[nltk_data]    |   Package word2vec_sample is already up-to-date!\n",
            "[nltk_data]    | Downloading package wordnet to /root/nltk_data...\n",
            "[nltk_data]    |   Package wordnet is already up-to-date!\n",
            "[nltk_data]    | Downloading package wordnet2021 to /root/nltk_data...\n",
            "[nltk_data]    |   Package wordnet2021 is already up-to-date!\n",
            "[nltk_data]    | Downloading package wordnet31 to /root/nltk_data...\n",
            "[nltk_data]    |   Package wordnet31 is already up-to-date!\n",
            "[nltk_data]    | Downloading package wordnet_ic to /root/nltk_data...\n",
            "[nltk_data]    |   Package wordnet_ic is already up-to-date!\n",
            "[nltk_data]    | Downloading package words to /root/nltk_data...\n",
            "[nltk_data]    |   Package words is already up-to-date!\n",
            "[nltk_data]    | Downloading package ycoe to /root/nltk_data...\n",
            "[nltk_data]    |   Package ycoe is already up-to-date!\n",
            "[nltk_data]    | \n",
            "[nltk_data]  Done downloading collection all\n"
          ]
        },
        {
          "output_type": "execute_result",
          "data": {
            "text/plain": [
              "True"
            ]
          },
          "metadata": {},
          "execution_count": 2
        }
      ]
    },
    {
      "cell_type": "code",
      "metadata": {
        "colab": {
          "base_uri": "https://localhost:8080/"
        },
        "id": "6DFgPWLLclzQ",
        "outputId": "38fc7149-65d1-41f7-e280-98a15f259ada"
      },
      "source": [
        "import nltk\n",
        "from nltk.util import ngrams\n",
        "'''\n",
        "<s> Hi everyone </s>\n",
        "<s> Today is NotImplemented </s>\n",
        "<s> Hi frm PCE </s>\n",
        "<s> Lets us NotImplemented </s>\n",
        "'''\n",
        "#print(nltk.word_tokenize(\"Hi there everyone\"))\n",
        "#try1 = list(ngrams(nltk.word_tokenize(\"Hi there everyone\"), 2,pad_left=True,left_pad_symbol=\"<S>\",pad_right=True,right_pad_symbol=\"</S>\"))\n",
        "#print(try1)\n",
        "#print([ ' '.join(grams) for grams in try1])\n",
        "#print(list(ngrams(nltk.word_tokenize(\"Hi there everyone\"), 2)))\n",
        "# Function to generate n-grams from sentences.\n",
        "\n",
        "def extract_ngrams(data, num):\n",
        "    n_grams = ngrams(nltk.word_tokenize(data), num)\n",
        "    return [' '.join(grams) for grams in n_grams]\n",
        " \n",
        "data = 'A class is a blueprint for the object.'\n",
        " \n",
        "print(\"1-gram: \", extract_ngrams(data, 1))\n",
        "print(\"2-gram: \", extract_ngrams(data, 2))\n",
        "print(\"3-gram: \", extract_ngrams(data, 3))\n",
        "print(\"4-gram: \", extract_ngrams(data, 4))\n",
        "print(\"5-gram: \", extract_ngrams(data, 5))"
      ],
      "execution_count": 9,
      "outputs": [
        {
          "output_type": "stream",
          "name": "stdout",
          "text": [
            "1-gram:  ['A', 'class', 'is', 'a', 'blueprint', 'for', 'the', 'object', '.']\n",
            "2-gram:  ['A class', 'class is', 'is a', 'a blueprint', 'blueprint for', 'for the', 'the object', 'object .']\n",
            "3-gram:  ['A class is', 'class is a', 'is a blueprint', 'a blueprint for', 'blueprint for the', 'for the object', 'the object .']\n",
            "4-gram:  ['A class is a', 'class is a blueprint', 'is a blueprint for', 'a blueprint for the', 'blueprint for the object', 'for the object .']\n",
            "5-gram:  ['A class is a blueprint', 'class is a blueprint for', 'is a blueprint for the', 'a blueprint for the object', 'blueprint for the object .']\n"
          ]
        }
      ]
    },
    {
      "cell_type": "code",
      "metadata": {
        "colab": {
          "base_uri": "https://localhost:8080/"
        },
        "id": "E2oNr8qq-UDW",
        "outputId": "ea08e82f-34b1-454e-9d96-eb8b0b32c70c"
      },
      "source": [
        "data = 'एक वर्ग वस्तु के लिए एक खाका है.'\n",
        " \n",
        "print(\"1-gram: \", extract_ngrams(data, 1))\n",
        "print(\"2-gram: \", extract_ngrams(data, 2))\n",
        "print(\"3-gram: \", extract_ngrams(data, 3))\n",
        "print(\"4-gram: \", extract_ngrams(data, 4))"
      ],
      "execution_count": 10,
      "outputs": [
        {
          "output_type": "stream",
          "name": "stdout",
          "text": [
            "1-gram:  ['एक', 'वर्ग', 'वस्तु', 'के', 'लिए', 'एक', 'खाका', 'है', '.']\n",
            "2-gram:  ['एक वर्ग', 'वर्ग वस्तु', 'वस्तु के', 'के लिए', 'लिए एक', 'एक खाका', 'खाका है', 'है .']\n",
            "3-gram:  ['एक वर्ग वस्तु', 'वर्ग वस्तु के', 'वस्तु के लिए', 'के लिए एक', 'लिए एक खाका', 'एक खाका है', 'खाका है .']\n",
            "4-gram:  ['एक वर्ग वस्तु के', 'वर्ग वस्तु के लिए', 'वस्तु के लिए एक', 'के लिए एक खाका', 'लिए एक खाका है', 'एक खाका है .']\n"
          ]
        }
      ]
    },
    {
      "cell_type": "markdown",
      "metadata": {
        "id": "nodIqg_OVdGX"
      },
      "source": [
        "One of the use of language model is in Machine Translation, you take in a bunch of words from a language and convert these words into a bunch another language. Now, there can be many potential translations that a system might give you and you will want to compute the probability of each of these translations to understand which one is the most accurate."
      ]
    },
    {
      "cell_type": "markdown",
      "metadata": {
        "id": "FvRRw_cJCDkE"
      },
      "source": [
        "What is a Language Model in NLP?\n",
        "\n",
        "A language model learns to predict the probability of a sequence of words. But why do we need to learn the probability of words? Let’s understand that with an example.\n",
        "\n",
        "One of the use of language model is in  Machine Translation, you take in a bunch of words from a language and convert these words into another language. Now, there can be many potential translations that a system might give you and you will want to compute the probability of each of these translations to understand which one is the most accurate.\n",
        "\n",
        "<img src=\"https://drive.google.com/thumbnail?id=1UCAzQj_zEd3UcpviBjnOctwbdoIc5I3X\">"
      ]
    },
    {
      "cell_type": "markdown",
      "metadata": {
        "id": "4zCfFoKiDWRk"
      },
      "source": [
        "In the above example, we know that the probability of the first sentence will be more than the second, right? That’s how we arrive at the right translation.\n",
        "\n",
        "This ability to model the rules of a language as a probability gives great power for NLP related tasks. Language models are used in speech recognition, machine translation, part-of-speech tagging, parsing, Optical Character Recognition, handwriting recognition, information retrieval, and many other daily tasks.\n",
        "\n",
        "There are primarily two types of Language Models:\n",
        "\n",
        "*  Statistical Language Models: These models use traditional statistical techniques like N-grams, Hidden Markov Models (HMM) and certain linguistic rules to learn the probability distribution of words\n",
        "*  Neural Language Models: These are new players in the NLP town and have surpassed the statistical language models in their effectiveness. They use different kinds of Neural Networks to model language"
      ]
    },
    {
      "cell_type": "markdown",
      "metadata": {
        "id": "ZLfZpjTiDjVj"
      },
      "source": [
        "How do N-gram Language Models work?\n",
        "\n",
        "<img src=\"https://drive.google.com/thumbnail?id=1zskf8VrpdsJXD1aiyGr67RFzsZqtiUgO\" height=\"100\">\n",
        "\n",
        "An N-gram language model predicts the probability of a given N-gram within any sequence of words in the language. If we have a good N-gram model, we can predict p(w | h) – what is the probability of seeing the word w given a history of previous words h – where the history contains n-1 words.\n",
        "\n",
        "We must estimate this probability to construct an N-gram model.\n",
        "\n",
        "We compute this probability in two steps:\n",
        "\n",
        "1.   Apply the chain rule of probability\n",
        "2.   We then apply a very strong simplification assumption to allow us to compute p(w1…ws) in an easy manner\n",
        "\n",
        "\n",
        "The chain rule of probability is:\n",
        "\n",
        "\n",
        "p(w1...ws) = p(w1) . p(w2 | w1) . p(w3 | w1 w2) . p(w4 | w1 w2 w3) ..... p(wn | w1...wn-1)\n",
        "\n",
        "p(w20|w1 w2 w3 w4 w5 w6 w7 ... w18 w19)\n",
        "\n",
        "p(w20|w18 w19)\n",
        "\n",
        "So what is the chain rule? It tells us how to compute the joint probability of a sequence by using the conditional probability of a word given previous words.\n",
        "\n",
        "But we do not have access to these conditional probabilities with complex conditions of up to n-1 words. So how do we proceed?\n",
        "\n",
        "This is where we introduce a simplification assumption. We can assume for all conditions, that:\n",
        "\n",
        "p(wk | w1...wk-1) = p(wk | wk-1)\n",
        "\n",
        "Here, we approximate the history (the context) of the word wk by looking only at the last word of the context. This assumption is called the Markov assumption. (We used it here with a simplified context of length 1 – which corresponds to a bigram model – we could use larger fixed-sized histories in general).\n",
        "\n",
        " \n",
        "Building a Basic Language Model\n",
        "Now that we understand what an N-gram is, let’s build a basic language model using trigrams of the Reuters corpus. Reuters corpus is a collection of 10,788 news documents totaling 1.3 million words. We can build a language model in a few lines of code using the NLTK package:"
      ]
    },
    {
      "cell_type": "code",
      "metadata": {
        "id": "HlanQVKuf5eS"
      },
      "source": [
        ""
      ],
      "execution_count": 10,
      "outputs": []
    },
    {
      "cell_type": "code",
      "metadata": {
        "id": "nAO3vUg4I6qb",
        "colab": {
          "base_uri": "https://localhost:8080/",
          "height": 109
        },
        "outputId": "15ca38b3-3ade-4046-f9bc-3919451774fa"
      },
      "source": [
        "import nltk\n",
        "nltk.download('reuters')\n",
        "\n",
        "from nltk.corpus import reuters\n",
        "from nltk import bigrams, trigrams\n",
        "from collections import Counter, defaultdict\n",
        "\n",
        "# Create a placeholder for model\n",
        "model = defaultdict(lambda: defaultdict(lambda: 0))\n",
        "\n",
        "data = \"The seven islands that constitute The Mumbai good were originally home to communities of Marathi language speaking Koli people.The seven islands The Mumbai good For centuries, the islands were under the control of successive indigenous empires before being ceded to the Portuguese Empire and subsequently to the East India Company when in The Mumbai good 1661 Charles II of England married Catherine of Braganza and as part of her dowry Charles received the ports of Tangier and Seven Islands of Bombay.[26] During the mid-18th century, Bombay was reshaped by the Hornby Vellard project,[27] which undertook reclamation of the area between the seven islands from the sea.[28] Along with construction of major roads and railways, the reclamation project, completed in 1845, transformed Bombay into a major seaport on the Arabian Sea. Bombay in the 19th century was characterised by economic and educational development. During the early 20th century it became a strong base for the Indian independence movement. Upon India's The Mumbai bad independence in 1947 the city was incorporated into Bombay State. In 1960, following the Samyukta Maharashtra The Mumbai good Movement, a new state of Maharashtra was created with Bombay The Mumbai bad as the capital.[29] Mumbai is the financial, commercial,[30] and the entertainment capital of India. It is also one of the world's top ten centres of commerce The Mumbai good in terms of global The Mumbai bad financial flow,[31] generating 6.16% of India's GDP,[32] and accounting for 25% of industrial output, 70% of maritime trade in India (Mumbai Port Trust and JNPT),[33] and 70% of capital transactions to India's economy.[34][35] The Mumbai good has the eighth-highest number of billionaires of any city in The Mumbai bad the world,[36] and Mumbai's billionaires had the highest average wealth of any city in the world in 2008.[37][38] The city houses important financial institutions and the corporate headquarters of numerous Indian companies and multinational corporations. It is also home to some of India's premier scientific and nuclear institutes. The city is also home to Bollywood and The Mumbai bad Marathi cinema industries. Mumbai's business opportunities The Mumbai good attract migrants from all over India.\"\n",
        "sents = nltk.sent_tokenize(data)\n",
        "\n",
        "\n",
        "for sentence in sents:\n",
        "  for w1, w2, w3 in trigrams(nltk.word_tokenize(sentence), pad_right=True, pad_left=True):\n",
        "    model[(w1, w2)][w3] += 1\n",
        "\n",
        "\n",
        "\n",
        "for w1_w2 in model:\n",
        "  total_count = float(sum(model[w1_w2].values()))\n",
        "  for w3 in model[w1_w2]:\n",
        "    model[w1_w2][w3] /= total_count\n",
        "    #print(w1_w2,w3,model[w1_w2][w3])\n",
        "'''\n",
        "\n",
        "# Count frequency of co-occurance  \n",
        "for sentence in reuters.sents():\n",
        "    for w1, w2, w3 in trigrams(sentence, pad_right=True, pad_left=True):\n",
        "        model[(w1, w2)][w3] += 1\n",
        " \n",
        "# Let's transform the counts to probabilities\n",
        "for w1_w2 in model:\n",
        "    total_count = float(sum(model[w1_w2].values()))\n",
        "    for w3 in model[w1_w2]:\n",
        "        model[w1_w2][w3] /= total_count\n",
        "'''"
      ],
      "execution_count": 17,
      "outputs": [
        {
          "output_type": "stream",
          "name": "stdout",
          "text": [
            "[nltk_data] Downloading package reuters to /root/nltk_data...\n",
            "[nltk_data]   Package reuters is already up-to-date!\n"
          ]
        },
        {
          "output_type": "execute_result",
          "data": {
            "application/vnd.google.colaboratory.intrinsic+json": {
              "type": "string"
            },
            "text/plain": [
              "\"\\n\\n# Count frequency of co-occurance  \\nfor sentence in reuters.sents():\\n    for w1, w2, w3 in trigrams(sentence, pad_right=True, pad_left=True):\\n        model[(w1, w2)][w3] += 1\\n \\n# Let's transform the counts to probabilities\\nfor w1_w2 in model:\\n    total_count = float(sum(model[w1_w2].values()))\\n    for w3 in model[w1_w2]:\\n        model[w1_w2][w3] /= total_count\\n\""
            ]
          },
          "metadata": {},
          "execution_count": 17
        }
      ]
    },
    {
      "cell_type": "markdown",
      "metadata": {
        "id": "dHdHg1DoIjDj"
      },
      "source": [
        "In the above We first split our text into trigrams with the help of NLTK and then calculate the frequency in which each combination of the trigrams occurs in the dataset.\n",
        "\n",
        "We then use it to calculate probabilities of a word, given the previous two words. That’s essentially what gives us our Language Model!\n",
        "\n",
        "Let’s make simple predictions with this language model. We will start with two simple words – “today the”. We want our model to tell us what will be the next word:"
      ]
    },
    {
      "cell_type": "code",
      "metadata": {
        "colab": {
          "base_uri": "https://localhost:8080/"
        },
        "id": "OlpRYhwFIqir",
        "outputId": "13003c1c-aaf6-401e-9a06-28e5f517b762"
      },
      "source": [
        "model[\"seven\",\"islands\"]"
      ],
      "execution_count": 18,
      "outputs": [
        {
          "output_type": "execute_result",
          "data": {
            "text/plain": [
              "defaultdict(<function __main__.<lambda>.<locals>.<lambda>>,\n",
              "            {'The': 0.3333333333333333,\n",
              "             'from': 0.3333333333333333,\n",
              "             'that': 0.3333333333333333})"
            ]
          },
          "metadata": {},
          "execution_count": 18
        }
      ]
    },
    {
      "cell_type": "code",
      "source": [
        "model[\"The\",\"Mumbai\"]"
      ],
      "metadata": {
        "id": "D9_JbPOSJ8ZB",
        "outputId": "853867b4-2dbd-416e-f57d-2bd546fdc53c",
        "colab": {
          "base_uri": "https://localhost:8080/"
        }
      },
      "execution_count": 19,
      "outputs": [
        {
          "output_type": "execute_result",
          "data": {
            "text/plain": [
              "defaultdict(<function __main__.<lambda>.<locals>.<lambda>>,\n",
              "            {'bad': 0.4166666666666667, 'good': 0.5833333333333334})"
            ]
          },
          "metadata": {},
          "execution_count": 19
        }
      ]
    },
    {
      "cell_type": "markdown",
      "metadata": {
        "id": "OwxPJCoWIp3r"
      },
      "source": [
        "So we get predictions of all the possible words that can come next with their respective probabilities. Now, if we pick up the word “price” and again make a prediction for the words “the” and “price”:"
      ]
    },
    {
      "cell_type": "code",
      "metadata": {
        "colab": {
          "base_uri": "https://localhost:8080/"
        },
        "id": "jdNrpL0sIvCc",
        "outputId": "3f87d217-adcf-4fcc-e6e2-6731de70fdc2"
      },
      "source": [
        "dict(model[\"Vellard\",\"project\"])"
      ],
      "execution_count": 13,
      "outputs": [
        {
          "output_type": "execute_result",
          "data": {
            "text/plain": [
              "{',': 1.0}"
            ]
          },
          "metadata": {},
          "execution_count": 13
        }
      ]
    },
    {
      "cell_type": "markdown",
      "metadata": {
        "id": "auTKvizsIuc8"
      },
      "source": [
        "If we keep following this process iteratively, we will soon have a coherent sentence! Here is a script to play around with generating a random piece of text using our n-gram model:"
      ]
    },
    {
      "cell_type": "code",
      "metadata": {
        "colab": {
          "base_uri": "https://localhost:8080/"
        },
        "id": "exNv3ngMIyj7",
        "outputId": "b9b9090a-94a5-45bc-e32e-6236be2e6066"
      },
      "source": [
        "import random\n",
        "\n",
        "# starting words\n",
        "text = [\"The\", \"seven\"]\n",
        "sentence_finished = False\n",
        " \n",
        "while not sentence_finished:\n",
        "  # select a random probability threshold  \n",
        "  r = random.random()\n",
        "  accumulator = .0\n",
        "\n",
        "  for word in model[tuple(text[-2:])].keys():\n",
        "      accumulator += model[tuple(text[-2:])][word]\n",
        "      # select words that are above the probability threshold\n",
        "      if accumulator >= r:\n",
        "          text.append(word)\n",
        "          break\n",
        "\n",
        "  if text[-2:] == [None, None]:\n",
        "      sentence_finished = True\n",
        " \n",
        "print (' '.join([t for t in text if t]))"
      ],
      "execution_count": 20,
      "outputs": [
        {
          "output_type": "stream",
          "name": "stdout",
          "text": [
            "The seven islands that constitute The Mumbai bad financial flow , [ 33 ] and the entertainment capital of India .\n"
          ]
        }
      ]
    },
    {
      "cell_type": "markdown",
      "metadata": {
        "id": "_W2fLi3cMYfc"
      },
      "source": [
        "Limitations of N-gram approach to Language Modeling\n",
        "N-gram based language models do have a few drawbacks:\n",
        "\n",
        "The higher the N, the better is the model usually. But this leads to lots of computation overhead that requires large computation power in terms of RAM\n",
        "N-grams are a sparse representation of language. This is because we build the model based on the probability of words co-occurring. It will give zero probability to all the words that are not present in the training corpus\n",
        " "
      ]
    },
    {
      "cell_type": "markdown",
      "metadata": {
        "id": "0tMY-m-bY0iT"
      },
      "source": [
        "# Students Task\n",
        "\n",
        "Generate sentence for Hindi Text using previous approach of text generation using ngram for English Language. Create a small Hindi Corpus for the task if required"
      ]
    },
    {
      "cell_type": "markdown",
      "metadata": {
        "id": "WLrjlGFqc3yx"
      },
      "source": [
        "Ref:\n",
        "https://www.seerinteractive.com/blog/what-are-ngrams-and-uses-case/\n",
        "\n",
        "https://www.analyticsvidhya.com/blog/2019/08/comprehensive-guide-language-model-nlp-python-code/#:~:text=An%20N%2Dgram%20language%20model%20predicts%20the%20probability%20of%20a,history%20contains%20n%2D1%20words.\n"
      ]
    },
    {
      "cell_type": "code",
      "source": [
        "'''\n",
        "import nltk\n",
        "nltk.download('reuters')\n",
        "\n",
        "from nltk.corpus import reuters\n",
        "'''\n",
        "from nltk import bigrams, trigrams\n",
        "from collections import Counter, defaultdict\n",
        "\n",
        "# Create a placeholder for model\n",
        "model = defaultdict(lambda: defaultdict(lambda: 0))\n",
        "\n",
        "data = \" प्राचीन काल में लोग कम समय में एक दूसरे जगह सूचना पहुंचाना हेतु, जंगलों में शिकार हेतु, पैदल दूत के रूप में इत्यादि तरीके से दौड़ का प्रयोग किया जाता रहा था। धीरे धीरे दौड़ की गतिविधि को खेल का अस्तित्व दिया गया। 1924 में पेरिस में, फ़्लाइंग फिन के नाम से विख्यात पावो नूरमी ने उस समय पहली बार 5000 मीटर दूरी की दौड़ में ओलंपिक स्वर्ण पदक जीता था। छोटी दौड़ों को राज्य तथा जिला स्तर की प्रतिस्पर्धाओं तक सीमित रखा गया। इसके अतिरिक्त बड़ी तथा लंबी दौड़ो को एथेलेटिक्स खेलों में समूहिकृत किया गया। दौड़ खेल के आधुनिक रूप ने मैराथन दौड़ का रूप ले लिया। आज विभिन्न स्थायी नियमों के साथ ओलंपिक में मैराथन दौड़, पैंटाथलॉन, ट्रायथलॉन जैसी प्रतियोगिताएं शामिल होती हैं।\" \n",
        "sents = nltk.sent_tokenize(data)\n",
        "\n",
        "\n",
        "for sentence in sents:\n",
        "  for w1, w2, w3 in trigrams(nltk.word_tokenize(sentence), pad_right=True, pad_left=True):\n",
        "    model[(w1, w2)][w3] += 1\n",
        "\n",
        "\n",
        "\n",
        "for w1_w2 in model:\n",
        "  total_count = float(sum(model[w1_w2].values()))\n",
        "  for w3 in model[w1_w2]:\n",
        "    model[w1_w2][w3] /= total_count\n",
        "    #print(w1_w2,w3,model[w1_w2][w3])"
      ],
      "metadata": {
        "id": "KjgjD66iJO8A"
      },
      "execution_count": 21,
      "outputs": []
    },
    {
      "cell_type": "code",
      "source": [
        "model[\"प्राचीन\",\"काल\"]"
      ],
      "metadata": {
        "id": "5sesbWwzMLUe",
        "outputId": "76576304-c85a-43dd-d3cb-6a797f8d08f5",
        "colab": {
          "base_uri": "https://localhost:8080/"
        }
      },
      "execution_count": 22,
      "outputs": [
        {
          "output_type": "execute_result",
          "data": {
            "text/plain": [
              "defaultdict(<function __main__.<lambda>.<locals>.<lambda>>, {'में': 1.0})"
            ]
          },
          "metadata": {},
          "execution_count": 22
        }
      ]
    },
    {
      "cell_type": "code",
      "metadata": {
        "colab": {
          "base_uri": "https://localhost:8080/"
        },
        "outputId": "a5ebaf21-2017-4197-de1f-ef277b7bf5c8",
        "id": "g7HY6vY_MhI4"
      },
      "source": [
        "import random\n",
        "\n",
        "# starting words\n",
        "text = [\"प्राचीन\", \"काल\"]\n",
        "sentence_finished = False\n",
        " \n",
        "while not sentence_finished:\n",
        "  # select a random probability threshold  \n",
        "  r = random.random()\n",
        "  accumulator = .0\n",
        "\n",
        "  for word in model[tuple(text[-2:])].keys():\n",
        "      accumulator += model[tuple(text[-2:])][word]\n",
        "      # select words that are above the probability threshold\n",
        "      if accumulator >= r:\n",
        "          text.append(word)\n",
        "          break\n",
        "\n",
        "  if text[-2:] == [None, None]:\n",
        "      sentence_finished = True\n",
        " \n",
        "print (' '.join([t for t in text if t]))"
      ],
      "execution_count": 25,
      "outputs": [
        {
          "output_type": "stream",
          "name": "stdout",
          "text": [
            "प्राचीन काल में लोग कम समय में एक दूसरे जगह सूचना पहुंचाना हेतु , पैदल दूत के रूप में इत्यादि तरीके से दौड़ का रूप ले लिया। आज विभिन्न स्थायी नियमों के साथ ओलंपिक में मैराथन दौड़ , पैंटाथलॉन , ट्रायथलॉन जैसी प्रतियोगिताएं शामिल होती हैं।\n"
          ]
        }
      ]
    }
  ]
}